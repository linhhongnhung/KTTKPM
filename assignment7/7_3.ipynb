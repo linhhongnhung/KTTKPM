{
 "cells": [
  {
   "cell_type": "code",
   "execution_count": 2,
   "id": "42afd91c",
   "metadata": {},
   "outputs": [
    {
     "name": "stdout",
     "output_type": "stream",
     "text": [
      "sentence    Wow... Loved this place.\n",
      "label                              1\n",
      "source                          yelp\n",
      "Name: 0, dtype: object\n"
     ]
    }
   ],
   "source": [
    "import pandas as pd\n",
    "\n",
    "filepath_dict = {'yelp':   'data/sentiment_analysis/yelp_labelled.txt',\n",
    "                 'amazon': 'data/sentiment_analysis/amazon_cells_labelled.txt',\n",
    "                 'imdb':   'data/sentiment_analysis/imdb_labelled.txt'}\n",
    "\n",
    "df_list = []\n",
    "for source, filepath in filepath_dict.items():\n",
    "    df = pd.read_csv(filepath, names=['sentence', 'label'], sep='\\t')\n",
    "    df['source'] = source  # Add another column filled with the source name\n",
    "    df_list.append(df)\n",
    "\n",
    "df = pd.concat(df_list)\n",
    "print(df.iloc[0])"
   ]
  },
  {
   "cell_type": "code",
   "execution_count": 3,
   "id": "b45979e3",
   "metadata": {},
   "outputs": [],
   "source": [
    "sentences = ['John likes ice cream', 'John hates chocolate.']"
   ]
  },
  {
   "cell_type": "code",
   "execution_count": 4,
   "id": "a2da55e0",
   "metadata": {},
   "outputs": [
    {
     "data": {
      "text/plain": [
       "{'John': 0, 'likes': 5, 'ice': 4, 'cream': 2, 'hates': 3, 'chocolate': 1}"
      ]
     },
     "execution_count": 4,
     "metadata": {},
     "output_type": "execute_result"
    }
   ],
   "source": [
    "from sklearn.feature_extraction.text import CountVectorizer\n",
    "vectorizer = CountVectorizer(min_df=0, lowercase=False)\n",
    "vectorizer.fit(sentences)\n",
    "vectorizer.vocabulary_"
   ]
  },
  {
   "cell_type": "code",
   "execution_count": 5,
   "id": "f2f15197",
   "metadata": {},
   "outputs": [
    {
     "data": {
      "text/plain": [
       "array([[1, 0, 1, 0, 1, 1],\n",
       "       [1, 1, 0, 1, 0, 0]], dtype=int64)"
      ]
     },
     "execution_count": 5,
     "metadata": {},
     "output_type": "execute_result"
    }
   ],
   "source": [
    "vectorizer.transform(sentences).toarray()"
   ]
  },
  {
   "cell_type": "code",
   "execution_count": 6,
   "id": "3c43a819",
   "metadata": {},
   "outputs": [],
   "source": [
    "from sklearn.model_selection import train_test_split\n",
    "\n",
    "df_yelp = df[df['source'] == 'yelp']\n",
    "\n",
    "sentences = df_yelp['sentence'].values\n",
    "y = df_yelp['label'].values\n",
    "\n",
    "sentences_train, sentences_test, y_train, y_test = train_test_split(\n",
    "    sentences, y, test_size=0.25, random_state=1000)"
   ]
  },
  {
   "cell_type": "code",
   "execution_count": 7,
   "id": "f9279281",
   "metadata": {},
   "outputs": [
    {
     "data": {
      "text/plain": [
       "<750x1714 sparse matrix of type '<class 'numpy.int64'>'\n",
       "\twith 7368 stored elements in Compressed Sparse Row format>"
      ]
     },
     "execution_count": 7,
     "metadata": {},
     "output_type": "execute_result"
    }
   ],
   "source": [
    "from sklearn.feature_extraction.text import CountVectorizer\n",
    "\n",
    "vectorizer = CountVectorizer()\n",
    "vectorizer.fit(sentences_train)\n",
    "\n",
    "X_train = vectorizer.transform(sentences_train)\n",
    "X_test  = vectorizer.transform(sentences_test)\n",
    "X_train"
   ]
  },
  {
   "cell_type": "code",
   "execution_count": 8,
   "id": "5d245538",
   "metadata": {},
   "outputs": [
    {
     "name": "stdout",
     "output_type": "stream",
     "text": [
      "Accuracy: 0.796\n"
     ]
    }
   ],
   "source": [
    "from sklearn.linear_model import LogisticRegression\n",
    "\n",
    "classifier = LogisticRegression()\n",
    "classifier.fit(X_train, y_train)\n",
    "score = classifier.score(X_test, y_test)\n",
    "\n",
    "print(\"Accuracy:\", score)"
   ]
  },
  {
   "cell_type": "code",
   "execution_count": 9,
   "id": "a904fe75",
   "metadata": {},
   "outputs": [
    {
     "name": "stdout",
     "output_type": "stream",
     "text": [
      "Accuracy for yelp data: 0.7960\n",
      "Accuracy for amazon data: 0.7960\n",
      "Accuracy for imdb data: 0.7487\n"
     ]
    }
   ],
   "source": [
    "for source in df['source'].unique():\n",
    "    df_source = df[df['source'] == source]\n",
    "    sentences = df_source['sentence'].values\n",
    "    y = df_source['label'].values\n",
    "\n",
    "    sentences_train, sentences_test, y_train, y_test = train_test_split(\n",
    "        sentences, y, test_size=0.25, random_state=1000)\n",
    "\n",
    "    vectorizer = CountVectorizer()\n",
    "    vectorizer.fit(sentences_train)\n",
    "    X_train = vectorizer.transform(sentences_train)\n",
    "    X_test  = vectorizer.transform(sentences_test)\n",
    "\n",
    "    classifier = LogisticRegression()\n",
    "    classifier.fit(X_train, y_train)\n",
    "    score = classifier.score(X_test, y_test)\n",
    "    print('Accuracy for {} data: {:.4f}'.format(source, score))"
   ]
  },
  {
   "cell_type": "code",
   "execution_count": 10,
   "id": "1abdccc8",
   "metadata": {},
   "outputs": [],
   "source": [
    "from keras.models import Sequential\n",
    "from keras import layers\n",
    "\n",
    "input_dim = X_train.shape[1]  # Number of features\n",
    "model = Sequential()\n",
    "model.add(layers.Dense(10, input_dim=input_dim, activation='relu'))\n",
    "model.add(layers.Dense(1, activation='sigmoid'))"
   ]
  },
  {
   "cell_type": "code",
   "execution_count": 11,
   "id": "0ae01a64",
   "metadata": {},
   "outputs": [
    {
     "name": "stdout",
     "output_type": "stream",
     "text": [
      "Model: \"sequential\"\n",
      "_________________________________________________________________\n",
      " Layer (type)                Output Shape              Param #   \n",
      "=================================================================\n",
      " dense (Dense)               (None, 10)                25060     \n",
      "                                                                 \n",
      " dense_1 (Dense)             (None, 1)                 11        \n",
      "                                                                 \n",
      "=================================================================\n",
      "Total params: 25,071\n",
      "Trainable params: 25,071\n",
      "Non-trainable params: 0\n",
      "_________________________________________________________________\n"
     ]
    }
   ],
   "source": [
    "model.compile(loss='binary_crossentropy', \n",
    "               optimizer='adam', \n",
    "               metrics=['accuracy'])\n",
    "model.summary()"
   ]
  },
  {
   "cell_type": "code",
   "execution_count": 21,
   "id": "370c71f1",
   "metadata": {},
   "outputs": [
    {
     "name": "stdout",
     "output_type": "stream",
     "text": [
      "Epoch 1/100\n",
      "57/57 [==============================] - 0s 3ms/step - loss: 2.2703e-05 - accuracy: 1.0000 - val_loss: 1.5236 - val_accuracy: 0.7647\n",
      "Epoch 2/100\n",
      "57/57 [==============================] - 0s 3ms/step - loss: 2.1960e-05 - accuracy: 1.0000 - val_loss: 1.5260 - val_accuracy: 0.7647\n",
      "Epoch 3/100\n",
      "57/57 [==============================] - 0s 4ms/step - loss: 2.1327e-05 - accuracy: 1.0000 - val_loss: 1.5292 - val_accuracy: 0.7647\n",
      "Epoch 4/100\n",
      "57/57 [==============================] - 0s 3ms/step - loss: 2.0685e-05 - accuracy: 1.0000 - val_loss: 1.5298 - val_accuracy: 0.7647\n",
      "Epoch 5/100\n",
      "57/57 [==============================] - 0s 3ms/step - loss: 2.0022e-05 - accuracy: 1.0000 - val_loss: 1.5374 - val_accuracy: 0.7647\n",
      "Epoch 6/100\n",
      "57/57 [==============================] - 0s 3ms/step - loss: 1.9387e-05 - accuracy: 1.0000 - val_loss: 1.5466 - val_accuracy: 0.7647\n",
      "Epoch 7/100\n",
      "57/57 [==============================] - 0s 3ms/step - loss: 1.8782e-05 - accuracy: 1.0000 - val_loss: 1.5492 - val_accuracy: 0.7647\n",
      "Epoch 8/100\n",
      "57/57 [==============================] - 0s 3ms/step - loss: 1.8234e-05 - accuracy: 1.0000 - val_loss: 1.5534 - val_accuracy: 0.7647\n",
      "Epoch 9/100\n",
      "57/57 [==============================] - 0s 4ms/step - loss: 1.7642e-05 - accuracy: 1.0000 - val_loss: 1.5558 - val_accuracy: 0.7647\n",
      "Epoch 10/100\n",
      "57/57 [==============================] - 0s 3ms/step - loss: 1.7075e-05 - accuracy: 1.0000 - val_loss: 1.5573 - val_accuracy: 0.7647\n",
      "Epoch 11/100\n",
      "57/57 [==============================] - 0s 3ms/step - loss: 1.6527e-05 - accuracy: 1.0000 - val_loss: 1.5611 - val_accuracy: 0.7647\n",
      "Epoch 12/100\n",
      "57/57 [==============================] - 0s 3ms/step - loss: 1.6058e-05 - accuracy: 1.0000 - val_loss: 1.5709 - val_accuracy: 0.7647\n",
      "Epoch 13/100\n",
      "57/57 [==============================] - 0s 3ms/step - loss: 1.5552e-05 - accuracy: 1.0000 - val_loss: 1.5684 - val_accuracy: 0.7647\n",
      "Epoch 14/100\n",
      "57/57 [==============================] - 0s 3ms/step - loss: 1.5079e-05 - accuracy: 1.0000 - val_loss: 1.5683 - val_accuracy: 0.7647\n",
      "Epoch 15/100\n",
      "57/57 [==============================] - 0s 4ms/step - loss: 1.4601e-05 - accuracy: 1.0000 - val_loss: 1.5755 - val_accuracy: 0.7647\n",
      "Epoch 16/100\n",
      "57/57 [==============================] - 0s 3ms/step - loss: 1.4117e-05 - accuracy: 1.0000 - val_loss: 1.5812 - val_accuracy: 0.7647\n",
      "Epoch 17/100\n",
      "57/57 [==============================] - 0s 3ms/step - loss: 1.3703e-05 - accuracy: 1.0000 - val_loss: 1.5837 - val_accuracy: 0.7647\n",
      "Epoch 18/100\n",
      "57/57 [==============================] - 0s 4ms/step - loss: 1.3277e-05 - accuracy: 1.0000 - val_loss: 1.5902 - val_accuracy: 0.7647\n",
      "Epoch 19/100\n",
      "57/57 [==============================] - 0s 4ms/step - loss: 1.2863e-05 - accuracy: 1.0000 - val_loss: 1.5896 - val_accuracy: 0.7647\n",
      "Epoch 20/100\n",
      "57/57 [==============================] - 0s 3ms/step - loss: 1.2477e-05 - accuracy: 1.0000 - val_loss: 1.5953 - val_accuracy: 0.7647\n",
      "Epoch 21/100\n",
      "57/57 [==============================] - 0s 4ms/step - loss: 1.2073e-05 - accuracy: 1.0000 - val_loss: 1.6038 - val_accuracy: 0.7647\n",
      "Epoch 22/100\n",
      "57/57 [==============================] - 0s 3ms/step - loss: 1.1690e-05 - accuracy: 1.0000 - val_loss: 1.6079 - val_accuracy: 0.7647\n",
      "Epoch 23/100\n",
      "57/57 [==============================] - 0s 3ms/step - loss: 1.1331e-05 - accuracy: 1.0000 - val_loss: 1.6153 - val_accuracy: 0.7647\n",
      "Epoch 24/100\n",
      "57/57 [==============================] - 0s 3ms/step - loss: 1.0953e-05 - accuracy: 1.0000 - val_loss: 1.6136 - val_accuracy: 0.7647\n",
      "Epoch 25/100\n",
      "57/57 [==============================] - 0s 3ms/step - loss: 1.0622e-05 - accuracy: 1.0000 - val_loss: 1.6217 - val_accuracy: 0.7647\n",
      "Epoch 26/100\n",
      "57/57 [==============================] - 0s 4ms/step - loss: 1.0303e-05 - accuracy: 1.0000 - val_loss: 1.6240 - val_accuracy: 0.7647\n",
      "Epoch 27/100\n",
      "57/57 [==============================] - 0s 3ms/step - loss: 9.9681e-06 - accuracy: 1.0000 - val_loss: 1.6291 - val_accuracy: 0.7647\n",
      "Epoch 28/100\n",
      "57/57 [==============================] - 0s 4ms/step - loss: 9.6764e-06 - accuracy: 1.0000 - val_loss: 1.6294 - val_accuracy: 0.7647\n",
      "Epoch 29/100\n",
      "57/57 [==============================] - 0s 4ms/step - loss: 9.3754e-06 - accuracy: 1.0000 - val_loss: 1.6352 - val_accuracy: 0.7647\n",
      "Epoch 30/100\n",
      "57/57 [==============================] - 0s 4ms/step - loss: 9.0837e-06 - accuracy: 1.0000 - val_loss: 1.6390 - val_accuracy: 0.7647\n",
      "Epoch 31/100\n",
      "57/57 [==============================] - 0s 5ms/step - loss: 8.8200e-06 - accuracy: 1.0000 - val_loss: 1.6393 - val_accuracy: 0.7647\n",
      "Epoch 32/100\n",
      "57/57 [==============================] - 0s 5ms/step - loss: 8.5468e-06 - accuracy: 1.0000 - val_loss: 1.6483 - val_accuracy: 0.7647\n",
      "Epoch 33/100\n",
      "57/57 [==============================] - 0s 4ms/step - loss: 8.2818e-06 - accuracy: 1.0000 - val_loss: 1.6528 - val_accuracy: 0.7647\n",
      "Epoch 34/100\n",
      "57/57 [==============================] - 0s 4ms/step - loss: 8.0195e-06 - accuracy: 1.0000 - val_loss: 1.6576 - val_accuracy: 0.7647\n",
      "Epoch 35/100\n",
      "57/57 [==============================] - 0s 4ms/step - loss: 7.7764e-06 - accuracy: 1.0000 - val_loss: 1.6573 - val_accuracy: 0.7647\n",
      "Epoch 36/100\n",
      "57/57 [==============================] - 0s 4ms/step - loss: 7.5512e-06 - accuracy: 1.0000 - val_loss: 1.6640 - val_accuracy: 0.7647\n",
      "Epoch 37/100\n",
      "57/57 [==============================] - 0s 4ms/step - loss: 7.3071e-06 - accuracy: 1.0000 - val_loss: 1.6658 - val_accuracy: 0.7647\n",
      "Epoch 38/100\n",
      "57/57 [==============================] - 0s 3ms/step - loss: 7.0846e-06 - accuracy: 1.0000 - val_loss: 1.6722 - val_accuracy: 0.7647\n",
      "Epoch 39/100\n",
      "57/57 [==============================] - 0s 3ms/step - loss: 6.8693e-06 - accuracy: 1.0000 - val_loss: 1.6766 - val_accuracy: 0.7647\n",
      "Epoch 40/100\n",
      "57/57 [==============================] - 0s 4ms/step - loss: 6.6756e-06 - accuracy: 1.0000 - val_loss: 1.6800 - val_accuracy: 0.7647\n",
      "Epoch 41/100\n",
      "57/57 [==============================] - 0s 3ms/step - loss: 6.4697e-06 - accuracy: 1.0000 - val_loss: 1.6829 - val_accuracy: 0.7647\n",
      "Epoch 42/100\n",
      "57/57 [==============================] - 0s 4ms/step - loss: 6.2685e-06 - accuracy: 1.0000 - val_loss: 1.6868 - val_accuracy: 0.7647\n",
      "Epoch 43/100\n",
      "57/57 [==============================] - 0s 4ms/step - loss: 6.0630e-06 - accuracy: 1.0000 - val_loss: 1.6901 - val_accuracy: 0.7594\n",
      "Epoch 44/100\n",
      "57/57 [==============================] - 0s 3ms/step - loss: 5.8987e-06 - accuracy: 1.0000 - val_loss: 1.6954 - val_accuracy: 0.7594\n",
      "Epoch 45/100\n",
      "57/57 [==============================] - 0s 4ms/step - loss: 5.7163e-06 - accuracy: 1.0000 - val_loss: 1.6947 - val_accuracy: 0.7594\n",
      "Epoch 46/100\n",
      "57/57 [==============================] - 0s 5ms/step - loss: 5.5397e-06 - accuracy: 1.0000 - val_loss: 1.7010 - val_accuracy: 0.7594\n",
      "Epoch 47/100\n",
      "57/57 [==============================] - 0s 4ms/step - loss: 5.3604e-06 - accuracy: 1.0000 - val_loss: 1.7028 - val_accuracy: 0.7594\n",
      "Epoch 48/100\n",
      "57/57 [==============================] - 0s 3ms/step - loss: 5.1993e-06 - accuracy: 1.0000 - val_loss: 1.7130 - val_accuracy: 0.7594\n",
      "Epoch 49/100\n",
      "57/57 [==============================] - 0s 4ms/step - loss: 5.0385e-06 - accuracy: 1.0000 - val_loss: 1.7167 - val_accuracy: 0.7594\n",
      "Epoch 50/100\n",
      "57/57 [==============================] - 0s 4ms/step - loss: 4.9037e-06 - accuracy: 1.0000 - val_loss: 1.7161 - val_accuracy: 0.7594\n",
      "Epoch 51/100\n",
      "57/57 [==============================] - 0s 3ms/step - loss: 4.7404e-06 - accuracy: 1.0000 - val_loss: 1.7245 - val_accuracy: 0.7594\n",
      "Epoch 52/100\n",
      "57/57 [==============================] - 0s 4ms/step - loss: 4.5850e-06 - accuracy: 1.0000 - val_loss: 1.7272 - val_accuracy: 0.7594\n",
      "Epoch 53/100\n",
      "57/57 [==============================] - 0s 3ms/step - loss: 4.4570e-06 - accuracy: 1.0000 - val_loss: 1.7377 - val_accuracy: 0.7594\n",
      "Epoch 54/100\n",
      "57/57 [==============================] - 0s 3ms/step - loss: 4.3271e-06 - accuracy: 1.0000 - val_loss: 1.7535 - val_accuracy: 0.7594\n",
      "Epoch 55/100\n",
      "57/57 [==============================] - 0s 4ms/step - loss: 4.1998e-06 - accuracy: 1.0000 - val_loss: 1.7508 - val_accuracy: 0.7594\n",
      "Epoch 56/100\n",
      "57/57 [==============================] - 0s 4ms/step - loss: 4.0606e-06 - accuracy: 1.0000 - val_loss: 1.7532 - val_accuracy: 0.7594\n",
      "Epoch 57/100\n"
     ]
    },
    {
     "name": "stdout",
     "output_type": "stream",
     "text": [
      "57/57 [==============================] - 0s 3ms/step - loss: 3.9343e-06 - accuracy: 1.0000 - val_loss: 1.7551 - val_accuracy: 0.7594\n",
      "Epoch 58/100\n",
      "57/57 [==============================] - 0s 3ms/step - loss: 3.8204e-06 - accuracy: 1.0000 - val_loss: 1.7539 - val_accuracy: 0.7594\n",
      "Epoch 59/100\n",
      "57/57 [==============================] - 0s 3ms/step - loss: 3.7075e-06 - accuracy: 1.0000 - val_loss: 1.7597 - val_accuracy: 0.7594\n",
      "Epoch 60/100\n",
      "57/57 [==============================] - 0s 3ms/step - loss: 3.5770e-06 - accuracy: 1.0000 - val_loss: 1.7616 - val_accuracy: 0.7594\n",
      "Epoch 61/100\n",
      "57/57 [==============================] - 0s 3ms/step - loss: 3.4654e-06 - accuracy: 1.0000 - val_loss: 1.7655 - val_accuracy: 0.7594\n",
      "Epoch 62/100\n",
      "57/57 [==============================] - 0s 3ms/step - loss: 3.3658e-06 - accuracy: 1.0000 - val_loss: 1.7666 - val_accuracy: 0.7594\n",
      "Epoch 63/100\n",
      "57/57 [==============================] - 0s 3ms/step - loss: 3.2650e-06 - accuracy: 1.0000 - val_loss: 1.7654 - val_accuracy: 0.7594\n",
      "Epoch 64/100\n",
      "57/57 [==============================] - 0s 3ms/step - loss: 3.1637e-06 - accuracy: 1.0000 - val_loss: 1.7752 - val_accuracy: 0.7594\n",
      "Epoch 65/100\n",
      "57/57 [==============================] - 0s 3ms/step - loss: 3.0567e-06 - accuracy: 1.0000 - val_loss: 1.7768 - val_accuracy: 0.7594\n",
      "Epoch 66/100\n",
      "57/57 [==============================] - 0s 3ms/step - loss: 2.9660e-06 - accuracy: 1.0000 - val_loss: 1.7812 - val_accuracy: 0.7594\n",
      "Epoch 67/100\n",
      "57/57 [==============================] - 0s 3ms/step - loss: 2.8941e-06 - accuracy: 1.0000 - val_loss: 1.7936 - val_accuracy: 0.7594\n",
      "Epoch 68/100\n",
      "57/57 [==============================] - 0s 3ms/step - loss: 2.8006e-06 - accuracy: 1.0000 - val_loss: 1.7886 - val_accuracy: 0.7594\n",
      "Epoch 69/100\n",
      "57/57 [==============================] - 0s 3ms/step - loss: 2.7115e-06 - accuracy: 1.0000 - val_loss: 1.7983 - val_accuracy: 0.7594\n",
      "Epoch 70/100\n",
      "57/57 [==============================] - 0s 3ms/step - loss: 2.6245e-06 - accuracy: 1.0000 - val_loss: 1.7996 - val_accuracy: 0.7594\n",
      "Epoch 71/100\n",
      "57/57 [==============================] - 0s 3ms/step - loss: 2.5420e-06 - accuracy: 1.0000 - val_loss: 1.8047 - val_accuracy: 0.7594\n",
      "Epoch 72/100\n",
      "57/57 [==============================] - 0s 3ms/step - loss: 2.4778e-06 - accuracy: 1.0000 - val_loss: 1.8089 - val_accuracy: 0.7594\n",
      "Epoch 73/100\n",
      "57/57 [==============================] - 0s 3ms/step - loss: 2.4031e-06 - accuracy: 1.0000 - val_loss: 1.8181 - val_accuracy: 0.7594\n",
      "Epoch 74/100\n",
      "57/57 [==============================] - 0s 3ms/step - loss: 2.3276e-06 - accuracy: 1.0000 - val_loss: 1.8151 - val_accuracy: 0.7594\n",
      "Epoch 75/100\n",
      "57/57 [==============================] - 0s 3ms/step - loss: 2.2550e-06 - accuracy: 1.0000 - val_loss: 1.8262 - val_accuracy: 0.7594\n",
      "Epoch 76/100\n",
      "57/57 [==============================] - 0s 3ms/step - loss: 2.1834e-06 - accuracy: 1.0000 - val_loss: 1.8262 - val_accuracy: 0.7594\n",
      "Epoch 77/100\n",
      "57/57 [==============================] - 0s 3ms/step - loss: 2.1311e-06 - accuracy: 1.0000 - val_loss: 1.8373 - val_accuracy: 0.7594\n",
      "Epoch 78/100\n",
      "57/57 [==============================] - 0s 3ms/step - loss: 2.0576e-06 - accuracy: 1.0000 - val_loss: 1.8343 - val_accuracy: 0.7594\n",
      "Epoch 79/100\n",
      "57/57 [==============================] - 0s 3ms/step - loss: 1.9987e-06 - accuracy: 1.0000 - val_loss: 1.8401 - val_accuracy: 0.7594\n",
      "Epoch 80/100\n",
      "57/57 [==============================] - 0s 3ms/step - loss: 1.9367e-06 - accuracy: 1.0000 - val_loss: 1.8427 - val_accuracy: 0.7594\n",
      "Epoch 81/100\n",
      "57/57 [==============================] - 0s 3ms/step - loss: 1.8832e-06 - accuracy: 1.0000 - val_loss: 1.8557 - val_accuracy: 0.7594\n",
      "Epoch 82/100\n",
      "57/57 [==============================] - 0s 3ms/step - loss: 1.8265e-06 - accuracy: 1.0000 - val_loss: 1.8465 - val_accuracy: 0.7594\n",
      "Epoch 83/100\n",
      "57/57 [==============================] - 0s 3ms/step - loss: 1.7672e-06 - accuracy: 1.0000 - val_loss: 1.8530 - val_accuracy: 0.7594\n",
      "Epoch 84/100\n",
      "57/57 [==============================] - 0s 3ms/step - loss: 1.7140e-06 - accuracy: 1.0000 - val_loss: 1.8523 - val_accuracy: 0.7594\n",
      "Epoch 85/100\n",
      "57/57 [==============================] - 0s 3ms/step - loss: 1.6613e-06 - accuracy: 1.0000 - val_loss: 1.8656 - val_accuracy: 0.7594\n",
      "Epoch 86/100\n",
      "57/57 [==============================] - 0s 3ms/step - loss: 1.6134e-06 - accuracy: 1.0000 - val_loss: 1.8650 - val_accuracy: 0.7594\n",
      "Epoch 87/100\n",
      "57/57 [==============================] - 0s 3ms/step - loss: 1.5663e-06 - accuracy: 1.0000 - val_loss: 1.8709 - val_accuracy: 0.7594\n",
      "Epoch 88/100\n",
      "57/57 [==============================] - 0s 3ms/step - loss: 1.5184e-06 - accuracy: 1.0000 - val_loss: 1.8706 - val_accuracy: 0.7594\n",
      "Epoch 89/100\n",
      "57/57 [==============================] - 0s 4ms/step - loss: 1.4732e-06 - accuracy: 1.0000 - val_loss: 1.8776 - val_accuracy: 0.7594\n",
      "Epoch 90/100\n",
      "57/57 [==============================] - 0s 3ms/step - loss: 1.4300e-06 - accuracy: 1.0000 - val_loss: 1.8798 - val_accuracy: 0.7594\n",
      "Epoch 91/100\n",
      "57/57 [==============================] - 0s 4ms/step - loss: 1.3860e-06 - accuracy: 1.0000 - val_loss: 1.8872 - val_accuracy: 0.7594\n",
      "Epoch 92/100\n",
      "57/57 [==============================] - 0s 3ms/step - loss: 1.3435e-06 - accuracy: 1.0000 - val_loss: 1.8899 - val_accuracy: 0.7594\n",
      "Epoch 93/100\n",
      "57/57 [==============================] - 0s 3ms/step - loss: 1.3021e-06 - accuracy: 1.0000 - val_loss: 1.8901 - val_accuracy: 0.7594\n",
      "Epoch 94/100\n",
      "57/57 [==============================] - 0s 3ms/step - loss: 1.2641e-06 - accuracy: 1.0000 - val_loss: 1.8949 - val_accuracy: 0.7594\n",
      "Epoch 95/100\n",
      "57/57 [==============================] - 0s 3ms/step - loss: 1.2281e-06 - accuracy: 1.0000 - val_loss: 1.9016 - val_accuracy: 0.7594\n",
      "Epoch 96/100\n",
      "57/57 [==============================] - 0s 3ms/step - loss: 1.1920e-06 - accuracy: 1.0000 - val_loss: 1.9041 - val_accuracy: 0.7594\n",
      "Epoch 97/100\n",
      "57/57 [==============================] - 0s 3ms/step - loss: 1.1540e-06 - accuracy: 1.0000 - val_loss: 1.9090 - val_accuracy: 0.7594\n",
      "Epoch 98/100\n",
      "57/57 [==============================] - 0s 3ms/step - loss: 1.1201e-06 - accuracy: 1.0000 - val_loss: 1.9135 - val_accuracy: 0.7594\n",
      "Epoch 99/100\n",
      "57/57 [==============================] - 0s 4ms/step - loss: 1.0882e-06 - accuracy: 1.0000 - val_loss: 1.9177 - val_accuracy: 0.7594\n",
      "Epoch 100/100\n",
      "57/57 [==============================] - 0s 4ms/step - loss: 1.0558e-06 - accuracy: 1.0000 - val_loss: 1.9229 - val_accuracy: 0.7594\n"
     ]
    }
   ],
   "source": [
    "history = model.fit(X_train, y_train,\n",
    "                     epochs=100,\n",
    "                     verbose=True,\n",
    "                     validation_data=(X_test, y_test),\n",
    "                     batch_size=10)"
   ]
  },
  {
   "cell_type": "code",
   "execution_count": 22,
   "id": "2e2d3944",
   "metadata": {},
   "outputs": [],
   "source": [
    "from keras.backend import clear_session\n",
    "clear_session()"
   ]
  },
  {
   "cell_type": "code",
   "execution_count": 23,
   "id": "1c0333a4",
   "metadata": {},
   "outputs": [
    {
     "name": "stdout",
     "output_type": "stream",
     "text": [
      "Training Accuracy: 1.0000\n",
      "Testing Accuracy:  0.7594\n"
     ]
    }
   ],
   "source": [
    "loss, accuracy = model.evaluate(X_train, y_train, verbose=False)\n",
    "print(\"Training Accuracy: {:.4f}\".format(accuracy))\n",
    "loss, accuracy = model.evaluate(X_test, y_test, verbose=False)\n",
    "print(\"Testing Accuracy:  {:.4f}\".format(accuracy))"
   ]
  },
  {
   "cell_type": "code",
   "execution_count": 28,
   "id": "8f9bb546",
   "metadata": {},
   "outputs": [],
   "source": [
    "import matplotlib.pyplot as plt\n",
    "plt.style.use('ggplot')\n",
    "\n",
    "def plot_history(history):\n",
    "    acc = history.history['accuracy']\n",
    "    val_acc = history.history['val_accuracy']\n",
    "    loss = history.history['loss']\n",
    "    val_loss = history.history['val_loss']\n",
    "    x = range(1, len(acc) + 1)\n",
    "\n",
    "    plt.figure(figsize=(12, 5))\n",
    "    plt.subplot(1, 2, 1)\n",
    "    plt.plot(x, acc, 'b', label='Training acc')\n",
    "    plt.plot(x, val_acc, 'r', label='Validation acc')\n",
    "    plt.title('Training and validation accuracy')\n",
    "    plt.legend()\n",
    "    plt.subplot(1, 2, 2)\n",
    "    plt.plot(x, loss, 'b', label='Training loss')\n",
    "    plt.plot(x, val_loss, 'r', label='Validation loss')\n",
    "    plt.title('Training and validation loss')\n",
    "    plt.legend()"
   ]
  },
  {
   "cell_type": "code",
   "execution_count": 29,
   "id": "36a92008",
   "metadata": {},
   "outputs": [
    {
     "data": {
      "image/png": "[encoded data removed]",
      "text/plain": [
       "<Figure size 864x360 with 2 Axes>"
      ]
     },
     "metadata": {},
     "output_type": "display_data"
    }
   ],
   "source": [
    "plot_history(history)"
   ]
  },
  {
   "cell_type": "code",
   "execution_count": null,
   "id": "e1134aaf",
   "metadata": {},
   "outputs": [],
   "source": []
  }
 ],
 "metadata": {
  "kernelspec": {
   "display_name": "Python 3 (ipykernel)",
   "language": "python",
   "name": "python3"
  },
  "language_info": {
   "codemirror_mode": {
    "name": "ipython",
    "version": 3
   },
   "file_extension": ".py",
   "mimetype": "text/x-python",
   "name": "python",
   "nbconvert_exporter": "python",
   "pygments_lexer": "ipython3",
   "version": "3.9.12"
  }
 },
 "nbformat": 4,
 "nbformat_minor": 5
}
